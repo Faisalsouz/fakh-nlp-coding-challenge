{
 "cells": [
  {
   "cell_type": "markdown",
   "source": [
    "# Solution of the coding challenge\n"
   ],
   "metadata": {
    "collapsed": false
   },
   "id": "998381d2de296ac6"
  },
  {
   "cell_type": "markdown",
   "source": [
    "## Prerequisites to run the code\n",
    "In main repository there is file named requirements.txt. This file contains all the required packages to run the code. To install all the required packages, run the requirements.txt. \n",
    "\n",
    "There two main modules in this project:\n",
    "1. preProcessing.py\n",
    "2. nlpClassifier.py\n",
    "\n",
    "Let's briefly explain the functionality of each module.\n",
    "## preProcessing Module\n",
    "The preProcessing module is designed to handle the preprocessing tasks for textual data. It includes functionalities such as reading JSON files, extracting relevant information, performing text preprocessing (tokenization, stopword removal, etc.), and saving the processed data into a structured format. This module provides a clean and organized way to prepare textual data for further analysis and modeling.\n",
    "\n",
    "## nlpClassifier Module\n",
    "The nlpClassifier module focuses on natural language processing (NLP) tasks, specifically text classification. It utilizes the spaCy library for generating document vectors and employs a logistic regression classifier to train and evaluate models. The module encapsulates functionalities for loading and splitting data, extracting document vectors, training the classifier, and evaluating its performance using metrics like accuracy and precision. Additionally, it integrates topic modeling using spaCy for deeper insights into the content of the textual data.\n",
    "\n",
    "These modules are designed to work together seamlessly, with preProcessing providing clean and processed data, and nlpClassifier leveraging this data to build and evaluate text classification models with additional insights gained through topic modeling.\n"
   ],
   "metadata": {
    "collapsed": false
   },
   "id": "79eb169d6027f8e1"
  },
  {
   "cell_type": "code",
   "outputs": [],
   "source": [
    "# import preProcessing module\n",
    "from preProcessing import PreProcessing as pp\n",
    "import pandas as pd\n",
    "\n",
    "\n",
    "#class `PreProcessing` gets the path of the json file and name of the class as an input. It then can output a pandas dataframe with the following columns:\n",
    "# processed text along with the original text, the class name, and the class label.\n",
    "\n",
    "# preprocess the json files and get the df of the data\n",
    "#initialize the class\n",
    "\n",
    "df_file1=  pp('./data_query_from_9367.json','9367')\n",
    "df_file2=  pp('./data_query_from_9578.json','9578')\n"
   ],
   "metadata": {
    "collapsed": false,
    "ExecuteTime": {
     "end_time": "2024-01-25T12:27:46.845549100Z",
     "start_time": "2024-01-25T12:27:46.823228200Z"
    }
   },
   "id": "e05a053699f1b3c9",
   "execution_count": 25
  },
  {
   "cell_type": "markdown",
   "source": [
    "In the cell above we have successfully preprocessed the json files and created two dataframes. Now we can merge the two dataframes into one dataframe."
   ],
   "metadata": {
    "collapsed": false
   },
   "id": "12257f5e39ca356d"
  },
  {
   "cell_type": "code",
   "outputs": [
    {
     "data": {
      "text/plain": "(523, 3)"
     },
     "execution_count": 30,
     "metadata": {},
     "output_type": "execute_result"
    }
   ],
   "source": [
    "# join the two dataframes\n",
    "joined_df= df_file1.join_dataframes(df_file1.df,df_file2.df)\n",
    "joined_df.shape\n",
    "#joined_df.tail()"
   ],
   "metadata": {
    "collapsed": false,
    "ExecuteTime": {
     "end_time": "2024-01-25T12:29:50.983874800Z",
     "start_time": "2024-01-25T12:29:50.973681200Z"
    }
   },
   "id": "e442c6b2fee74589",
   "execution_count": 30
  },
  {
   "cell_type": "markdown",
   "source": [
    "we were able to parse the JSON files and create a dataframe in structured format. Note we have added the class of the document  in new column `class`. Now we can save the dataframe into a csv file,  so that system don't have to apply text preprocessing every time it wants to use the data.\n"
   ],
   "metadata": {
    "collapsed": false
   },
   "id": "353c3621f14a7b2e"
  },
  {
   "cell_type": "markdown",
   "source": [
    "Let's clean the data tokenize the data so that embeddings vector can be generated. As machine only understands the number."
   ],
   "metadata": {
    "collapsed": false
   },
   "id": "fd44ce51e01ee470"
  },
  {
   "cell_type": "code",
   "outputs": [],
   "source": [
    "joined_df['Processed_Text'] = joined_df['Full_Text'].apply(df_file1.preprocess_text)"
   ],
   "metadata": {
    "collapsed": false,
    "ExecuteTime": {
     "end_time": "2024-01-25T12:31:29.596574200Z",
     "start_time": "2024-01-25T12:31:02.017170300Z"
    }
   },
   "id": "3d02ff5f77aecd94",
   "execution_count": 31
  },
  {
   "cell_type": "code",
   "outputs": [
    {
     "name": "stdout",
     "output_type": "stream",
     "text": [
      "(523, 4)\n"
     ]
    },
    {
     "data": {
      "text/plain": "  Article_ID                                          Full_Text class  \\\n0  423340639  Desired start date: ASAP Duration of the missi...  9367   \n1  423341081  Desired start date: 16/10/2023 Duration of the...  9367   \n2  423382015  Florida Health has recorded locally acquired d...  9367   \n3  423324199  About CRS. Catholic Relief Services is the off...  9367   \n4  423385532  Attachments Au Niger, dans sa mission de fourn...  9367   \n\n                                      Processed_Text  \n0  desire start date asap duration mission year l...  \n1  desire start date duration mission month poten...  \n2  florida health record locally acquire dengue c...  \n3  crs catholic relief services official internat...  \n4  attachments au niger dans sa mission de fourni...  ",
      "text/html": "<div>\n<style scoped>\n    .dataframe tbody tr th:only-of-type {\n        vertical-align: middle;\n    }\n\n    .dataframe tbody tr th {\n        vertical-align: top;\n    }\n\n    .dataframe thead th {\n        text-align: right;\n    }\n</style>\n<table border=\"1\" class=\"dataframe\">\n  <thead>\n    <tr style=\"text-align: right;\">\n      <th></th>\n      <th>Article_ID</th>\n      <th>Full_Text</th>\n      <th>class</th>\n      <th>Processed_Text</th>\n    </tr>\n  </thead>\n  <tbody>\n    <tr>\n      <th>0</th>\n      <td>423340639</td>\n      <td>Desired start date: ASAP Duration of the missi...</td>\n      <td>9367</td>\n      <td>desire start date asap duration mission year l...</td>\n    </tr>\n    <tr>\n      <th>1</th>\n      <td>423341081</td>\n      <td>Desired start date: 16/10/2023 Duration of the...</td>\n      <td>9367</td>\n      <td>desire start date duration mission month poten...</td>\n    </tr>\n    <tr>\n      <th>2</th>\n      <td>423382015</td>\n      <td>Florida Health has recorded locally acquired d...</td>\n      <td>9367</td>\n      <td>florida health record locally acquire dengue c...</td>\n    </tr>\n    <tr>\n      <th>3</th>\n      <td>423324199</td>\n      <td>About CRS. Catholic Relief Services is the off...</td>\n      <td>9367</td>\n      <td>crs catholic relief services official internat...</td>\n    </tr>\n    <tr>\n      <th>4</th>\n      <td>423385532</td>\n      <td>Attachments Au Niger, dans sa mission de fourn...</td>\n      <td>9367</td>\n      <td>attachments au niger dans sa mission de fourni...</td>\n    </tr>\n  </tbody>\n</table>\n</div>"
     },
     "execution_count": 36,
     "metadata": {},
     "output_type": "execute_result"
    }
   ],
   "source": [
    "print(joined_df.shape)\n",
    "joined_df.head()"
   ],
   "metadata": {
    "collapsed": false,
    "ExecuteTime": {
     "end_time": "2024-01-25T12:33:14.486099200Z",
     "start_time": "2024-01-25T12:33:14.477676200Z"
    }
   },
   "id": "4d369406a79cf86a",
   "execution_count": 36
  },
  {
   "cell_type": "markdown",
   "source": [
    "As we can see in the column `Processed_Text` the text is tokenized and cleaned. Now we can save the dataframe into a csv file.\n",
    "it is necessary to save the dataframe into a csv file so that we don't have to apply text preprocessing every time we want to use the data.\n"
   ],
   "metadata": {
    "collapsed": false
   },
   "id": "9cda0cd2a2655b85"
  },
  {
   "cell_type": "code",
   "outputs": [
    {
     "name": "stdout",
     "output_type": "stream",
     "text": [
      "  Article_ID                                          Full_Text class  \\\n",
      "0  423340639  Desired start date: ASAP Duration of the missi...  9367   \n",
      "1  423341081  Desired start date: 16/10/2023 Duration of the...  9367   \n",
      "2  423382015  Florida Health has recorded locally acquired d...  9367   \n",
      "3  423324199  About CRS. Catholic Relief Services is the off...  9367   \n",
      "4  423385532  Attachments Au Niger, dans sa mission de fourn...  9367   \n",
      "\n",
      "                                      Processed_Text  \n",
      "0  desire start date asap duration mission year l...  \n",
      "1  desire start date duration mission month poten...  \n",
      "2  florida health record locally acquire dengue c...  \n",
      "3  crs catholic relief services official internat...  \n",
      "4  attachments au niger dans sa mission de fourni...  \n",
      "    Article_ID                                          Full_Text class  \\\n",
      "363  423310860  Η ανοσοθεραπεία στην ογκολογία-αιματολογία στο...  9578   \n",
      "364  423308521  Herring with garlic and terrible nausea: Musul...  9578   \n",
      "365  423308215  Warszawa. Pijany przyjechał mężczyznę na skute...  9578   \n",
      "366  423309078  Probiotics have been widely used in gastroente...  9578   \n",
      "367  423309898  Поставить диагноз «социальная фобия» может тол...  9578   \n",
      "\n",
      "                                        Processed_Text  \n",
      "363  η ανοσοθεραπεία στην ογκολογία αιματολογία στο...  \n",
      "364  herre garlic terrible nausea musulbes break ka...  \n",
      "365  warszawa pijany przyjechał mężczyznę na skuter...  \n",
      "366  probiotic widely gastroenteritis acute chronic...  \n",
      "367  поставить диагноз социальная фобия может тольк...  \n",
      "(523, 4)\n"
     ]
    }
   ],
   "source": [
    "joined_df.to_csv('processed_data.csv', index=False)\n",
    "print(joined_df.head())\n",
    "print(joined_df.tail())\n",
    "print(joined_df.shape)"
   ],
   "metadata": {
    "collapsed": false,
    "ExecuteTime": {
     "end_time": "2024-01-25T12:35:02.376302600Z",
     "start_time": "2024-01-25T12:35:02.314431300Z"
    }
   },
   "id": "a3e6e2fc52623cb2",
   "execution_count": 40
  },
  {
   "cell_type": "markdown",
   "source": [
    "Everything look good. we have ensured with `head` and `tail` functions that the data look usual and processed correctly. Now we can move on to the next step.\n"
   ],
   "metadata": {
    "collapsed": false
   },
   "id": "a09ecabcbff1330a"
  },
  {
   "cell_type": "markdown",
   "source": [
    "## 1.2 Training  and evaluation of  a text classification model"
   ],
   "metadata": {
    "collapsed": false
   },
   "id": "8389c68572129543"
  },
  {
   "cell_type": "code",
   "outputs": [],
   "source": [
    "from nlpClassifier import NLPClassifier\n",
    "# initialize the class\n",
    "classifier = NLPClassifier()"
   ],
   "metadata": {
    "collapsed": false,
    "ExecuteTime": {
     "end_time": "2024-01-25T12:51:23.898116900Z",
     "start_time": "2024-01-25T12:51:22.838558600Z"
    }
   },
   "id": "903f81d5dc9a874f",
   "execution_count": 64
  },
  {
   "cell_type": "code",
   "outputs": [
    {
     "name": "stdout",
     "output_type": "stream",
     "text": [
      "   Article_ID                                          Full_Text  class  \\\n",
      "0   423340639  Desired start date: ASAP Duration of the missi...   9367   \n",
      "1   423341081  Desired start date: 16/10/2023 Duration of the...   9367   \n",
      "2   423382015  Florida Health has recorded locally acquired d...   9367   \n",
      "3   423324199  About CRS. Catholic Relief Services is the off...   9367   \n",
      "4   423385532  Attachments Au Niger, dans sa mission de fourn...   9367   \n",
      "\n",
      "                                      Processed_Text  \n",
      "0  desire start date asap duration mission year l...  \n",
      "1  desire start date duration mission month poten...  \n",
      "2  florida health record locally acquire dengue c...  \n",
      "3  crs catholic relief services official internat...  \n",
      "4  attachments au niger dans sa mission de fourni...  \n"
     ]
    }
   ],
   "source": [
    "# load the data\n",
    "classifier.load_data('processed_data.csv')\n",
    "print(classifier.df.head())\n"
   ],
   "metadata": {
    "collapsed": false,
    "ExecuteTime": {
     "end_time": "2024-01-25T12:51:23.943901400Z",
     "start_time": "2024-01-25T12:51:23.899148400Z"
    }
   },
   "id": "fba170ddcecde062",
   "execution_count": 65
  },
  {
   "cell_type": "code",
   "outputs": [
    {
     "name": "stdout",
     "output_type": "stream",
     "text": [
      "The shape of the train and test data is:\n",
      "(418,) (105,) (418,) (105,)\n",
      "##############################################\n",
      "204    o principal suspeito e esfaquear um homem meio...\n",
      "385    cd de méxico octubre en el marco del día de la...\n",
      "249    au zimbabwé depuis septembre les autorités loc...\n",
      "92     new york october good afternoon good exciting ...\n",
      "426    lázaro cárdenas de octubre de el gobierno de m...\n",
      "Name: Processed_Text, dtype: object\n",
      "187    foto reprodução freepik nas plataformas de míd...\n",
      "460    w spotkaniu uczestniczyli przedstawiciele sena...\n",
      "491    queensland mum year old daughter hospital meni...\n",
      "306    distintas dinámicas realizan los equipos de pr...\n",
      "440    paciente sente dore que estão ligada problemas...\n",
      "Name: Processed_Text, dtype: object\n",
      "204    9578\n",
      "385    9578\n",
      "249    9578\n",
      "92     9367\n",
      "426    9578\n",
      "Name: class, dtype: int64\n",
      "187    9578\n",
      "460    9578\n",
      "491    9578\n",
      "306    9578\n",
      "440    9578\n",
      "Name: class, dtype: int64\n"
     ]
    }
   ],
   "source": [
    "# split the data into train and test\n",
    "classifier.split_data()\n",
    "print('The shape of the train and test data is:')\n",
    "print(classifier.X_train.shape, classifier.X_test.shape, classifier.y_train.shape, classifier.y_test.shape)\n",
    "#print train,test and label data\n",
    "print('##############################################')\n",
    "print(classifier.X_train.head())\n",
    "print(classifier.X_test.head())\n",
    "print(classifier.y_train.head())\n",
    "print(classifier.y_test.head())\n"
   ],
   "metadata": {
    "collapsed": false,
    "ExecuteTime": {
     "end_time": "2024-01-25T12:57:29.699772700Z",
     "start_time": "2024-01-25T12:57:29.691916100Z"
    }
   },
   "id": "d75ef0b2a53c3a0",
   "execution_count": 73
  },
  {
   "cell_type": "code",
   "outputs": [],
   "source": [
    "# generate document vectors\n",
    "X_train_vectors, X_test_vectors = classifier.prepare_data()"
   ],
   "metadata": {
    "collapsed": false,
    "ExecuteTime": {
     "end_time": "2024-01-25T12:58:55.095465500Z",
     "start_time": "2024-01-25T12:58:34.762710500Z"
    }
   },
   "id": "3f10107b4b845c91",
   "execution_count": 75
  },
  {
   "cell_type": "code",
   "outputs": [],
   "source": [
    "# train the classifier\n",
    "classifier.train_model(X_train_vectors, classifier.y_train)"
   ],
   "metadata": {
    "collapsed": false,
    "ExecuteTime": {
     "end_time": "2024-01-25T12:59:11.382938900Z",
     "start_time": "2024-01-25T12:59:11.304305400Z"
    }
   },
   "id": "2f07f878285bb713",
   "execution_count": 76
  },
  {
   "cell_type": "code",
   "outputs": [],
   "source": [
    "# evaluate the classifier\n",
    "classifier.evaluate_model(X_test_vectors, classifier.y_test)"
   ],
   "metadata": {
    "collapsed": false,
    "ExecuteTime": {
     "end_time": "2024-01-25T12:59:36.342728700Z",
     "start_time": "2024-01-25T12:59:36.334949300Z"
    }
   },
   "id": "2a3d3b1f94a1bc31",
   "execution_count": 77
  },
  {
   "cell_type": "code",
   "outputs": [
    {
     "name": "stdout",
     "output_type": "stream",
     "text": [
      "Accuracy: 0.97\n",
      "Precision: 0.97\n"
     ]
    }
   ],
   "source": [
    "# print the classification report\n",
    "classifier.print_results()"
   ],
   "metadata": {
    "collapsed": false,
    "ExecuteTime": {
     "end_time": "2024-01-25T13:00:00.661574800Z",
     "start_time": "2024-01-25T13:00:00.655831Z"
    }
   },
   "id": "9578cda0c9c3523c",
   "execution_count": 78
  },
  {
   "cell_type": "markdown",
   "source": [
    "we got very good results. Our logistic model can predict from given text with 97% accuracy about which file the text belongs to. \n"
   ],
   "metadata": {
    "collapsed": false
   },
   "id": "e8c2ca279c79a479"
  },
  {
   "cell_type": "code",
   "outputs": [
    {
     "name": "stdout",
     "output_type": "stream",
     "text": [
      "Topics:\n",
      "Topic 1: ['year', 'kabul solidarite international si international humanitarian aid association', 'afghanistan', 'soviet', 'afghan', 'afghanistan', 'wardak bamiyan', 'khost paktika samangan kunduz province organization', 'afghanistan', 'december', 'kapisa wardak', 'kabul', 'nimroz farah province', 'nimroz farah', 'province si', 'annual budget million euro', 'south west', 'dcd si', 'pm', 'dcdp', 'month', 'kabul', 'rrm department', 'mid summer', 'afghanistan', 'eu bha usaid', 'un', 'unhcr', 'english', 'dari pashto asset', 'month', 'annual', 'monthly', 'monthly', 'august', 'working day month', 'afghanistan', 'august', 'iskp', 'kabul', 'kabul', 'sl solidarités international si est', 'prévenir et à combattre', 'des membres des communautés bénéficiaire ou de ses collaborateur et', 'collaboratrice atteinte aux personnes et ou aux bien', 'non déclaré', 'atteinte aux droits de qui pourrait être perpétré dans le cadre de ses intervention si applique', 'des actes de seah solidarités international est un', 'qui combat toute', 'demandera jamais une rétribution quelconque', 'un processus de recrutement solidarités international si', 'zero']\n",
      "Topic 2: ['syria', 'jordan solidarite', 'syria', 'syria', 'nes', 'bha fund consortium', 'nes international partner donor', 'giz coordination team', 'jordan northwest', 'hassakeh raqqa job', 'development solidarités', 'month', 'tbr', 'tbr', 'middle east', 'english', 'arabic', 'annual', 'monthly', 'monthly', 'working day month', 'day month', 'year', 'nes', 'weekend', 'sl solidarités international si est', 'prévenir et à combattre', 'des membres des communautés bénéficiaire ou de ses collaborateur et', 'collaboratrice atteinte aux personnes et ou aux bien', 'non déclaré', 'atteinte aux droits de qui pourrait être perpétré dans le cadre de ses intervention si applique', 'des actes de seah solidarités international est un', 'qui combat toute', 'demandera jamais une rétribution quelconque', 'un processus de recrutement solidarités international si', 'zero']\n",
      "Topic 3: ['florida', 'miami dade county', 'today', 'world health organization announce', 'european group gates foundation', 'million', 'earth european commission', 'eib european investment bank', 'melinda gates foundation partner', 'european', 'ursula von', 'half', 'million', 'second', 'half', 'john arne', 'rottingen', 'norwegian', 'rottingen', 'jeremy farrar serve', 'røttingen', 'norway']\n",
      "Topic 4: ['crs catholic relief services official international humanitarian agency catholic community united states', 'day day', 'catholic', 'filipino', 'english', 'tagbilaran city bohol', 'gpr', 'catholic', 'catholic', 'united states', 'filipino']\n",
      "Topic 5: ['niger dans sa mission de fournir', 'armés et les aléas du changement', 'dan les région de tillabéri diffa et nord', 'de voilà un aperçu de nos action en étroite', 'nigérienne crn', 'le cicr', 'les besoins des communautés', 'déplacées sont les plus', 'le cicr', 'distribuant des kits de bien essentiel de ménage et en soutenant', 'déplacés appuyés', 'kit ehi bien essentiel de ménage personne déplacés ou refugiées soutenus', 'dan le cadre de de la santé le cicr soutient les centre de santé intégrés csi et les hôpitaux dans les zone', 'aux soins de santé', 'dans ce sen personnes', 'ont bénéficié de soins de santé aux csi soutenus par', 'du cicr ne', 'sécurité économique', 'de subvenir aux besoin de leur famille et se traduit de plusieurs manière à', 'savoir garantir la bonne santé du bétail', 'mettre en uvre des activités', 'génératrice', 'rémunéré', 'ménage ont été', 'le cadre de', 'à diffa et tahoua pour la réalisation de bande pare feux et de désensablement de parcs de vaccination']\n"
     ]
    }
   ],
   "source": [
    "# Let's do some topic modeling or named entity recognition for our documents\n",
    "classifier.perform_topic_modeling()\n"
   ],
   "metadata": {
    "collapsed": false,
    "ExecuteTime": {
     "end_time": "2024-01-25T13:02:43.613302600Z",
     "start_time": "2024-01-25T13:02:29.076550700Z"
    }
   },
   "id": "69f4e67202b6eee5",
   "execution_count": 80
  },
  {
   "cell_type": "markdown",
   "source": [
    "See our topic modeling function can give Named Entity Recognition (NER) for our documents. This can be very useful for our system to understand the content of the document.\n",
    "we can further  use this information to classify the documents into different categories."
   ],
   "metadata": {
    "collapsed": false
   },
   "id": "d2b86b6f257d0e04"
  },
  {
   "cell_type": "markdown",
   "source": [
    "**End of the coding challenge**"
   ],
   "metadata": {
    "collapsed": false
   },
   "id": "a80a178f2e257a4a"
  },
  {
   "cell_type": "code",
   "outputs": [],
   "source": [],
   "metadata": {
    "collapsed": false
   },
   "id": "227e604262292b18"
  }
 ],
 "metadata": {
  "kernelspec": {
   "display_name": "Python 3",
   "language": "python",
   "name": "python3"
  },
  "language_info": {
   "codemirror_mode": {
    "name": "ipython",
    "version": 2
   },
   "file_extension": ".py",
   "mimetype": "text/x-python",
   "name": "python",
   "nbconvert_exporter": "python",
   "pygments_lexer": "ipython2",
   "version": "2.7.6"
  }
 },
 "nbformat": 4,
 "nbformat_minor": 5
}
